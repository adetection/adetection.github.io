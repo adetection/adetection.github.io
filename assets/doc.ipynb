{
 "cells": [
  {
   "cell_type": "markdown",
   "metadata": {},
   "source": [
    "# IPYNB - Alejandro Franco Vázquez \n",
    "### Código del Proyecto: Implementacion de un IDS con algoritmos de Machine Learning\n",
    "    Última actualización: [04/06/2018]"
   ]
  },
  {
   "cell_type": "markdown",
   "metadata": {},
   "source": [
    "En este notebook de jupyter se mostrarán ejemplos del código empleado en el proyecto. Los datos están simplificados de modo que las salidas mostrarán pocas filas (5) para no hacerlo demasiado complejo. Hay comentarios en las partes más importantes.\n",
    "\n",
    "*Los bloques de código deberán ser ejecutados por orden para ir guardando las variables.*\n",
    "\n",
    "**La mayoría de bloques de código están desarrollados por el autor del proyecto.**"
   ]
  },
  {
   "cell_type": "code",
   "execution_count": 1,
   "metadata": {},
   "outputs": [
    {
     "name": "stdout",
     "output_type": "stream",
     "text": [
      "3.6.0 |Anaconda custom (64-bit)| (default, Dec 23 2016, 12:22:00) \n",
      "[GCC 4.4.7 20120313 (Red Hat 4.4.7-1)]\n"
     ]
    }
   ],
   "source": [
    "import sys\n",
    "print (sys.version)"
   ]
  },
  {
   "cell_type": "markdown",
   "metadata": {},
   "source": [
    "# Table of contents\n",
    "\n",
    "- [1. Importación de datos](#1.-Importación-de-datos)\n",
    "- [2. Agrupación de datos](#2.-Agrupación-de-datos)\n",
    "- [3. Normalización de datos](#3.-Normalización-de-datos)\n",
    "    * [3.1 Vanilla Python](#3.1-Vanilla-Python)\n",
    "    * [3.2 Numpy](#3.2-NumPy)\n",
    "    * [3.3 Visualization](#3.3-Visualization)\n",
    "    \n",
    "    \n",
    "- [4. Isolation Forest](#4.-Isolation-Forest)\n",
    "    * [4.1 Plot Isolation Forest](#4.1-Plot-Isolation-Forest)\n",
    "    \n",
    "    \n",
    "- [5. Gráficas](#5.-Gráficas)\n",
    "    * [5.1 Sin ordenar tiempos](#5.1-Sin-ordenar-Tiempos)\n",
    "    * [5.2 Ordenando tiempos](#5.2-Ordenando-Tiempos)\n",
    "    \n",
    "    \n",
    "- [6. Mapa de anomalías](#6.-Mapa-anomalías)\n",
    "\n",
    "- [8. Detector de IP pública o privada](#8.-Public-or-Private-IP-detector)\n",
    "- [9. Detector pais](#9.-Detector-pais)"
   ]
  },
  {
   "cell_type": "markdown",
   "metadata": {},
   "source": [
    "## 1. Importación de datos"
   ]
  },
  {
   "cell_type": "code",
   "execution_count": 2,
   "metadata": {},
   "outputs": [
    {
     "data": {
      "text/html": [
       "<div>\n",
       "<style>\n",
       "    .dataframe thead tr:only-child th {\n",
       "        text-align: right;\n",
       "    }\n",
       "\n",
       "    .dataframe thead th {\n",
       "        text-align: left;\n",
       "    }\n",
       "\n",
       "    .dataframe tbody tr th {\n",
       "        vertical-align: top;\n",
       "    }\n",
       "</style>\n",
       "<table border=\"1\" class=\"dataframe\">\n",
       "  <thead>\n",
       "    <tr style=\"text-align: right;\">\n",
       "      <th></th>\n",
       "      <th>no</th>\n",
       "      <th>time</th>\n",
       "      <th>x</th>\n",
       "      <th>info</th>\n",
       "      <th>ipsrc</th>\n",
       "      <th>ipdst</th>\n",
       "      <th>proto</th>\n",
       "      <th>len</th>\n",
       "      <th>count</th>\n",
       "    </tr>\n",
       "  </thead>\n",
       "  <tbody>\n",
       "    <tr>\n",
       "      <th>0</th>\n",
       "      <td>1</td>\n",
       "      <td>2017-03-20 17:08:53</td>\n",
       "      <td>0s</td>\n",
       "      <td>null</td>\n",
       "      <td>10.3.20.102</td>\n",
       "      <td>37.202.7.169</td>\n",
       "      <td>TCP</td>\n",
       "      <td>66</td>\n",
       "      <td>1</td>\n",
       "    </tr>\n",
       "    <tr>\n",
       "      <th>1</th>\n",
       "      <td>2</td>\n",
       "      <td>2017-03-20 17:08:54</td>\n",
       "      <td>0s</td>\n",
       "      <td>null</td>\n",
       "      <td>37.202.7.169</td>\n",
       "      <td>10.3.20.102</td>\n",
       "      <td>TCP</td>\n",
       "      <td>60</td>\n",
       "      <td>1</td>\n",
       "    </tr>\n",
       "    <tr>\n",
       "      <th>2</th>\n",
       "      <td>3</td>\n",
       "      <td>2017-03-20 17:08:54</td>\n",
       "      <td>0s</td>\n",
       "      <td>null</td>\n",
       "      <td>10.3.20.102</td>\n",
       "      <td>37.202.7.169</td>\n",
       "      <td>TCP</td>\n",
       "      <td>60</td>\n",
       "      <td>1</td>\n",
       "    </tr>\n",
       "    <tr>\n",
       "      <th>3</th>\n",
       "      <td>4</td>\n",
       "      <td>2017-03-20 17:08:54</td>\n",
       "      <td>0s</td>\n",
       "      <td>null</td>\n",
       "      <td>10.3.20.102</td>\n",
       "      <td>37.202.7.169</td>\n",
       "      <td>HTTP</td>\n",
       "      <td>309</td>\n",
       "      <td>1</td>\n",
       "    </tr>\n",
       "    <tr>\n",
       "      <th>4</th>\n",
       "      <td>5</td>\n",
       "      <td>2017-03-20 17:08:54</td>\n",
       "      <td>0s</td>\n",
       "      <td>null</td>\n",
       "      <td>37.202.7.169</td>\n",
       "      <td>10.3.20.102</td>\n",
       "      <td>TCP</td>\n",
       "      <td>60</td>\n",
       "      <td>1</td>\n",
       "    </tr>\n",
       "  </tbody>\n",
       "</table>\n",
       "</div>"
      ],
      "text/plain": [
       "   no                time   x  info         ipsrc         ipdst proto  len  \\\n",
       "0   1 2017-03-20 17:08:53  0s  null   10.3.20.102  37.202.7.169   TCP   66   \n",
       "1   2 2017-03-20 17:08:54  0s  null  37.202.7.169   10.3.20.102   TCP   60   \n",
       "2   3 2017-03-20 17:08:54  0s  null   10.3.20.102  37.202.7.169   TCP   60   \n",
       "3   4 2017-03-20 17:08:54  0s  null   10.3.20.102  37.202.7.169  HTTP  309   \n",
       "4   5 2017-03-20 17:08:54  0s  null  37.202.7.169   10.3.20.102   TCP   60   \n",
       "\n",
       "   count  \n",
       "0      1  \n",
       "1      1  \n",
       "2      1  \n",
       "3      1  \n",
       "4      1  "
      ]
     },
     "execution_count": 2,
     "metadata": {},
     "output_type": "execute_result"
    }
   ],
   "source": [
    "import pandas as pd\n",
    "import numpy as np\n",
    "\n",
    "df = pd.read_csv('/home/alexfrancow/AAA/ransomware2s.csv')\n",
    "df.columns = ['no', 'time', 'x', 'info', 'ipsrc', 'ipdst', 'proto', 'len']\n",
    "df['info'] = \"null\"\n",
    "df.parse_dates=[\"time\"]\n",
    "df['time'] = pd.to_datetime(df['time'])\n",
    "\n",
    "# Se añade la columna [count] con valor 1 para luego hacer las sumas.\n",
    "df['count'] = 1\n",
    "\n",
    "df.head(5)"
   ]
  },
  {
   "cell_type": "markdown",
   "metadata": {},
   "source": [
    "## 2. Agrupación de datos"
   ]
  },
  {
   "cell_type": "code",
   "execution_count": 3,
   "metadata": {},
   "outputs": [
    {
     "name": "stdout",
     "output_type": "stream",
     "text": [
      "CPU times: user 3.25 s, sys: 46.9 ms, total: 3.3 s\n",
      "Wall time: 3.3 s\n"
     ]
    },
    {
     "data": {
      "text/html": [
       "<div>\n",
       "<style>\n",
       "    .dataframe thead tr:only-child th {\n",
       "        text-align: right;\n",
       "    }\n",
       "\n",
       "    .dataframe thead th {\n",
       "        text-align: left;\n",
       "    }\n",
       "\n",
       "    .dataframe tbody tr th {\n",
       "        vertical-align: top;\n",
       "    }\n",
       "</style>\n",
       "<table border=\"1\" class=\"dataframe\">\n",
       "  <thead>\n",
       "    <tr style=\"text-align: right;\">\n",
       "      <th></th>\n",
       "      <th>ipdst</th>\n",
       "      <th>proto</th>\n",
       "      <th>time</th>\n",
       "      <th>count</th>\n",
       "    </tr>\n",
       "  </thead>\n",
       "  <tbody>\n",
       "    <tr>\n",
       "      <th>0</th>\n",
       "      <td>10.3.20.102</td>\n",
       "      <td>HTTP</td>\n",
       "      <td>2017-03-20 17:08:55</td>\n",
       "      <td>3</td>\n",
       "    </tr>\n",
       "    <tr>\n",
       "      <th>7</th>\n",
       "      <td>10.3.20.102</td>\n",
       "      <td>HTTP</td>\n",
       "      <td>2017-03-20 17:09:30</td>\n",
       "      <td>1</td>\n",
       "    </tr>\n",
       "    <tr>\n",
       "      <th>8</th>\n",
       "      <td>10.3.20.102</td>\n",
       "      <td>TCP</td>\n",
       "      <td>2017-03-20 17:08:50</td>\n",
       "      <td>3</td>\n",
       "    </tr>\n",
       "    <tr>\n",
       "      <th>9</th>\n",
       "      <td>10.3.20.102</td>\n",
       "      <td>TCP</td>\n",
       "      <td>2017-03-20 17:08:55</td>\n",
       "      <td>104</td>\n",
       "    </tr>\n",
       "    <tr>\n",
       "      <th>10</th>\n",
       "      <td>10.3.20.102</td>\n",
       "      <td>TCP</td>\n",
       "      <td>2017-03-20 17:09:00</td>\n",
       "      <td>204</td>\n",
       "    </tr>\n",
       "  </tbody>\n",
       "</table>\n",
       "</div>"
      ],
      "text/plain": [
       "          ipdst proto                time  count\n",
       "0   10.3.20.102  HTTP 2017-03-20 17:08:55      3\n",
       "7   10.3.20.102  HTTP 2017-03-20 17:09:30      1\n",
       "8   10.3.20.102   TCP 2017-03-20 17:08:50      3\n",
       "9   10.3.20.102   TCP 2017-03-20 17:08:55    104\n",
       "10  10.3.20.102   TCP 2017-03-20 17:09:00    204"
      ]
     },
     "execution_count": 3,
     "metadata": {},
     "output_type": "execute_result"
    }
   ],
   "source": [
    "# Se hace la agrupación por [ipdst] y [proto], un .resample del [time] en 5 segundos y se hace la suma. \n",
    "    # También resetea el index y se dropea los valores NaN.\n",
    "%time dataGroup2 = df.groupby(['ipdst','proto']).resample('5S', on='time').sum().reset_index().dropna()\n",
    "\n",
    "# Quitamos los decimales.\n",
    "pd.options.display.float_format = '{:,.0f}'.format\n",
    "\n",
    "# Se depura la salida seleccionando unas columnas y un número de filas.\n",
    "dataGroup2 = dataGroup2.head()[['ipdst','proto','time','count']]\n",
    "dataGroup2\n"
   ]
  },
  {
   "cell_type": "markdown",
   "metadata": {},
   "source": [
    "> Podemos usar:\n",
    "```python \n",
    "dataGroup2 = dataGroup2[dataGroup2.ipsrc != '10.10.31.101'] \n",
    "dataGroup2 =dataGroup2[dataGroup2.ipdst != '10.10.31.101']\n",
    "```\n",
    "para eliminar la fila que tenga esa IP, esto es útil si queremos sacar nuestra IP de la lista."
   ]
  },
  {
   "cell_type": "markdown",
   "metadata": {},
   "source": [
    "## 3. Normalización de datos\n",
    "http://sebastianraschka.com/Articles/2014_about_feature_scaling.html#about-min-max-scaling "
   ]
  },
  {
   "cell_type": "code",
   "execution_count": 4,
   "metadata": {},
   "outputs": [
    {
     "data": {
      "text/html": [
       "<div>\n",
       "<style>\n",
       "    .dataframe thead tr:only-child th {\n",
       "        text-align: right;\n",
       "    }\n",
       "\n",
       "    .dataframe thead th {\n",
       "        text-align: left;\n",
       "    }\n",
       "\n",
       "    .dataframe tbody tr th {\n",
       "        vertical-align: top;\n",
       "    }\n",
       "</style>\n",
       "<table border=\"1\" class=\"dataframe\">\n",
       "  <thead>\n",
       "    <tr style=\"text-align: right;\">\n",
       "      <th></th>\n",
       "      <th>ipdst</th>\n",
       "      <th>proto</th>\n",
       "      <th>time</th>\n",
       "      <th>count</th>\n",
       "      <th>count_n</th>\n",
       "    </tr>\n",
       "  </thead>\n",
       "  <tbody>\n",
       "    <tr>\n",
       "      <th>0</th>\n",
       "      <td>10.3.20.102</td>\n",
       "      <td>HTTP</td>\n",
       "      <td>2017-03-20 17:08:55</td>\n",
       "      <td>3</td>\n",
       "      <td>0</td>\n",
       "    </tr>\n",
       "    <tr>\n",
       "      <th>7</th>\n",
       "      <td>10.3.20.102</td>\n",
       "      <td>HTTP</td>\n",
       "      <td>2017-03-20 17:09:30</td>\n",
       "      <td>1</td>\n",
       "      <td>0</td>\n",
       "    </tr>\n",
       "    <tr>\n",
       "      <th>8</th>\n",
       "      <td>10.3.20.102</td>\n",
       "      <td>TCP</td>\n",
       "      <td>2017-03-20 17:08:50</td>\n",
       "      <td>3</td>\n",
       "      <td>0</td>\n",
       "    </tr>\n",
       "    <tr>\n",
       "      <th>9</th>\n",
       "      <td>10.3.20.102</td>\n",
       "      <td>TCP</td>\n",
       "      <td>2017-03-20 17:08:55</td>\n",
       "      <td>104</td>\n",
       "      <td>1</td>\n",
       "    </tr>\n",
       "    <tr>\n",
       "      <th>10</th>\n",
       "      <td>10.3.20.102</td>\n",
       "      <td>TCP</td>\n",
       "      <td>2017-03-20 17:09:00</td>\n",
       "      <td>204</td>\n",
       "      <td>1</td>\n",
       "    </tr>\n",
       "  </tbody>\n",
       "</table>\n",
       "</div>"
      ],
      "text/plain": [
       "          ipdst proto                time  count  count_n\n",
       "0   10.3.20.102  HTTP 2017-03-20 17:08:55      3        0\n",
       "7   10.3.20.102  HTTP 2017-03-20 17:09:30      1        0\n",
       "8   10.3.20.102   TCP 2017-03-20 17:08:50      3        0\n",
       "9   10.3.20.102   TCP 2017-03-20 17:08:55    104        1\n",
       "10  10.3.20.102   TCP 2017-03-20 17:09:00    204        1"
      ]
     },
     "execution_count": 4,
     "metadata": {},
     "output_type": "execute_result"
    }
   ],
   "source": [
    "dataNorm = dataGroup2.copy()\n",
    "\n",
    "# Se aplica la fórmula de escalado de variables.\n",
    "dataNorm['count_n'] = (dataGroup2['count'] - dataGroup2['count'].min()) / (dataGroup2['count'].max() - dataGroup2['count'].min())\n",
    "\n",
    "dataNorm = dataNorm.head(5)\n",
    "dataNorm"
   ]
  },
  {
   "cell_type": "code",
   "execution_count": 5,
   "metadata": {},
   "outputs": [
    {
     "data": {
      "image/png": "[encoded data removed]",
      "text/plain": [
       "<matplotlib.figure.Figure at 0x7fed3d3237f0>"
      ]
     },
     "metadata": {},
     "output_type": "display_data"
    }
   ],
   "source": [
    "%matplotlib inline\n",
    "\n",
    "from matplotlib import pyplot as plt\n",
    "\n",
    "def plot():\n",
    "    plt.figure(figsize=(8,6))\n",
    "\n",
    "    plt.scatter(dataGroup2['count'], dataGroup2['count'],\n",
    "            color='green', label='input scale', alpha=0.5)\n",
    "        \n",
    "    plt.scatter(dataNorm['count_n'], dataNorm['count_n'],\n",
    "            color='blue', label='min-max scaled [min=0, max=1]', alpha=0.3)\n",
    "    \n",
    "    plt.legend(loc='upper left')\n",
    "    plt.grid()\n",
    "\n",
    "    plt.tight_layout()\n",
    "\n",
    "plot()\n",
    "plt.show()\n"
   ]
  },
  {
   "cell_type": "markdown",
   "metadata": {},
   "source": [
    "### 3.1 Vanilla Python"
   ]
  },
  {
   "cell_type": "code",
   "execution_count": 6,
   "metadata": {},
   "outputs": [
    {
     "name": "stdout",
     "output_type": "stream",
     "text": [
      "[-0.74299773604806973, -0.76776432724967203, -0.74299773604806973, 0.50771511963284766, 1.7460446797129638]\n",
      "[0.009852216748768473, 0.0, 0.009852216748768473, 0.5073891625615764, 1.0]\n"
     ]
    }
   ],
   "source": [
    "# Standardization\n",
    "\n",
    "x = dataGroup2['count']\n",
    "mean = sum(x)/len(x)\n",
    "std_dev = (1/len(x) * sum([ (x_i - mean)**2 for x_i in x]))**0.5\n",
    "\n",
    "z_scores = [(x_i - mean)/std_dev for x_i in x]\n",
    "print(z_scores)\n",
    "# Min-Max scaling\n",
    "\n",
    "minmax = [(x_i - min(x)) / (max(x) - min(x)) for x_i in x]\n",
    "print(minmax)"
   ]
  },
  {
   "cell_type": "markdown",
   "metadata": {},
   "source": [
    "### 3.2 NumPy"
   ]
  },
  {
   "cell_type": "code",
   "execution_count": 7,
   "metadata": {},
   "outputs": [
    {
     "name": "stdout",
     "output_type": "stream",
     "text": [
      "[-0.74299774 -0.76776433 -0.74299774  0.50771512  1.74604468]\n",
      "[ 0.00985222  0.          0.00985222  0.50738916  1.        ]\n"
     ]
    }
   ],
   "source": [
    "import numpy as np\n",
    "\n",
    "# Standardization\n",
    "\n",
    "x_np = np.asarray(x)\n",
    "z_scores_np = (x_np - x_np.mean()) / x_np.std()\n",
    "print(z_scores_np)\n",
    "\n",
    "# Min-Max scaling\n",
    "\n",
    "np_minmax = (x_np - x_np.min()) / (x_np.max() - x_np.min())\n",
    "print(np_minmax)"
   ]
  },
  {
   "cell_type": "markdown",
   "metadata": {},
   "source": [
    "### 3.3 Visualization"
   ]
  },
  {
   "cell_type": "code",
   "execution_count": 8,
   "metadata": {},
   "outputs": [
    {
     "data": {
      "image/png": "[encoded data removed]",
      "text/plain": [
       "<matplotlib.figure.Figure at 0x7fed3d323a20>"
      ]
     },
     "metadata": {},
     "output_type": "display_data"
    }
   ],
   "source": [
    "from matplotlib import pyplot as plt\n",
    "\n",
    "fig, ((ax1, ax2), (ax3, ax4)) = plt.subplots(nrows=2, ncols=2, figsize=(10,5))\n",
    "\n",
    "y_pos = [0 for i in range(len(x))]\n",
    "\n",
    "ax1.scatter(z_scores, y_pos, color='g')\n",
    "ax1.set_title('Python standardization', color='g')\n",
    "\n",
    "ax2.scatter(minmax, y_pos, color='g')\n",
    "ax2.set_title('Python Min-Max scaling', color='g')\n",
    "\n",
    "ax3.scatter(z_scores_np, y_pos, color='b')\n",
    "ax3.set_title('Python NumPy standardization', color='b')\n",
    "\n",
    "ax4.scatter(np_minmax, y_pos, color='b')\n",
    "ax4.set_title('Python NumPy Min-Max scaling', color='b')\n",
    "\n",
    "plt.tight_layout()\n",
    "\n",
    "for ax in (ax1, ax2, ax3, ax4):\n",
    "    ax.get_yaxis().set_visible(False)\n",
    "    ax.grid()\n",
    "\n",
    "plt.show()\n"
   ]
  },
  {
   "cell_type": "markdown",
   "metadata": {
    "collapsed": true
   },
   "source": [
    "## 4. Isolation Forest"
   ]
  },
  {
   "cell_type": "code",
   "execution_count": 9,
   "metadata": {},
   "outputs": [
    {
     "data": {
      "text/html": [
       "<div>\n",
       "<style>\n",
       "    .dataframe thead tr:only-child th {\n",
       "        text-align: right;\n",
       "    }\n",
       "\n",
       "    .dataframe thead th {\n",
       "        text-align: left;\n",
       "    }\n",
       "\n",
       "    .dataframe tbody tr th {\n",
       "        vertical-align: top;\n",
       "    }\n",
       "</style>\n",
       "<table border=\"1\" class=\"dataframe\">\n",
       "  <thead>\n",
       "    <tr style=\"text-align: right;\">\n",
       "      <th></th>\n",
       "      <th>count</th>\n",
       "      <th>prediction</th>\n",
       "    </tr>\n",
       "  </thead>\n",
       "  <tbody>\n",
       "    <tr>\n",
       "      <th>0</th>\n",
       "      <td>3</td>\n",
       "      <td>1</td>\n",
       "    </tr>\n",
       "    <tr>\n",
       "      <th>7</th>\n",
       "      <td>1</td>\n",
       "      <td>1</td>\n",
       "    </tr>\n",
       "    <tr>\n",
       "      <th>8</th>\n",
       "      <td>3</td>\n",
       "      <td>1</td>\n",
       "    </tr>\n",
       "    <tr>\n",
       "      <th>9</th>\n",
       "      <td>104</td>\n",
       "      <td>1</td>\n",
       "    </tr>\n",
       "    <tr>\n",
       "      <th>10</th>\n",
       "      <td>204</td>\n",
       "      <td>-1</td>\n",
       "    </tr>\n",
       "  </tbody>\n",
       "</table>\n",
       "</div>"
      ],
      "text/plain": [
       "    count  prediction\n",
       "0       3           1\n",
       "7       1           1\n",
       "8       3           1\n",
       "9     104           1\n",
       "10    204          -1"
      ]
     },
     "execution_count": 9,
     "metadata": {},
     "output_type": "execute_result"
    }
   ],
   "source": [
    "from sklearn.pipeline import Pipeline\n",
    "from sklearn.ensemble import IsolationForest\n",
    "\n",
    "dataNorm = dataNorm[['count','count_n']]\n",
    "\n",
    "# La funcion iloc nos permite seleccionar desde una posición a otra en un array.\n",
    "dataTrain = dataNorm.iloc[0:5]\n",
    "\n",
    "iforest = IsolationForest(n_estimators=100, contamination=0.00001, max_samples=5)\n",
    "iforest.fit(dataTrain)\n",
    "clf = iforest.fit(dataTrain)\n",
    "prediction = iforest.predict(dataNorm)\n",
    "\n",
    "dataGroup2['prediction'] = prediction\n",
    "dataGroup2[['count','prediction']]"
   ]
  },
  {
   "cell_type": "markdown",
   "metadata": {},
   "source": [
    "#### Example *iloc*:\n",
    "```python\n",
    "#return second position (python counts from 0, so 1)\n",
    "print (df.columns.get_loc('Taste'))\n",
    "1\n",
    "\n",
    "df.iloc[0:2, df.columns.get_loc('Taste')] = 'good'\n",
    "df.iloc[2:6, df.columns.get_loc('Taste')] = 'bad'\n",
    "print (df)\n",
    "         Food Taste\n",
    "0       Apple  good\n",
    "1      Banana  good\n",
    "2       Candy   bad\n",
    "3        Milk   bad\n",
    "4       Bread   bad\n",
    "5  Strawberry   bad\n",
    "```\n",
    "#### Examples *Isolation Forest*:\n",
    "- n_estimators : int, optional (default=100)\n",
    "    \n",
    "        The number of base estimators in the ensemble.\n",
    "    \n",
    "    \n",
    "- contamination : float in (0., 0.5), optional (default=0.1)\n",
    "    \n",
    "        The amount of contamination of the data set, i.e. the proportion of outliers in the data set. Used when fitting to define the threshold on the decision function.\n",
    "        \n",
    "        \n",
    "- max_features : int or float, optional (default=1.0)\n",
    "\n",
    "        The number of features to draw from X to train each base estimator.\n",
    "            If int, then draw max_features features.\n",
    "            If float, then draw max_features * X.shape[1] features.\n",
    "\n",
    "\n",
    "\n",
    "```python\n",
    "\n",
    "iforest = IsolationForest(n_estimators=100, contamination=0.1)\n",
    "\n",
    "```\n",
    "\n",
    "```\n",
    " \tcount \tprediction\n",
    "76 \t34 \t    -1\n",
    "77 \t31 \t    -1\n",
    "78 \t2 \t     1\n",
    "79 \t68 \t    -1\n",
    "80 \t98 \t    -1\n",
    "83 \t4 \t     1\n",
    "92 \t1 \t     1\n",
    "95 \t4 \t     1\n",
    "... 1        1\n",
    "... 1        1\n",
    "... 1        1\n",
    "\n",
    "```\n",
    "```python\n",
    "\n",
    "iforest = IsolationForest(n_estimators=100, contamination=0.01)\n",
    "\n",
    "```\n",
    "\n",
    "```\n",
    " \tcount \tprediction\n",
    "76 \t34 \t     1\n",
    "77 \t31 \t     1\n",
    "78 \t2 \t     1\n",
    "79 \t68 \t     1\n",
    "80 \t98 \t    -1\n",
    "83 \t4 \t     1\n",
    "92 \t1 \t     1\n",
    "95 \t4 \t     1\n",
    "... 1        1\n",
    "... 1        1\n",
    "... 1        1\n",
    "\n",
    "```"
   ]
  },
  {
   "cell_type": "markdown",
   "metadata": {},
   "source": [
    "### 4.1 Plot Isolation Forest"
   ]
  },
  {
   "cell_type": "code",
   "execution_count": 10,
   "metadata": {},
   "outputs": [
    {
     "data": {
      "image/png": "[encoded data removed]",
      "text/plain": [
       "<matplotlib.figure.Figure at 0x7fed3d380860>"
      ]
     },
     "metadata": {},
     "output_type": "display_data"
    }
   ],
   "source": [
    "x = dataGroup2[(dataGroup2['prediction'] == -1)]['count'].values\n",
    "\n",
    "%matplotlib inline\n",
    "\n",
    "from matplotlib import pyplot as plt\n",
    "\n",
    "def plot():\n",
    "    plt.figure(figsize=(8,6))\n",
    "\n",
    "    plt.scatter(dataGroup2['count'], dataGroup2['count'], s=6, label=\"normal\", alpha=0.3, color=\"blue\")\n",
    "        \n",
    "    plt.scatter(x, x, marker=\"x\", color=\"red\", label=\"anomalies\", alpha=0.5)\n",
    "    \n",
    "    plt.legend(loc='upper left')\n",
    "    plt.grid()\n",
    "\n",
    "    plt.tight_layout()\n",
    "\n",
    "plot()\n",
    "plt.show()\n",
    "\n"
   ]
  },
  {
   "cell_type": "code",
   "execution_count": 11,
   "metadata": {},
   "outputs": [
    {
     "data": {
      "text/html": [
       "<div>\n",
       "<style>\n",
       "    .dataframe thead tr:only-child th {\n",
       "        text-align: right;\n",
       "    }\n",
       "\n",
       "    .dataframe thead th {\n",
       "        text-align: left;\n",
       "    }\n",
       "\n",
       "    .dataframe tbody tr th {\n",
       "        vertical-align: top;\n",
       "    }\n",
       "</style>\n",
       "<table border=\"1\" class=\"dataframe\">\n",
       "  <thead>\n",
       "    <tr style=\"text-align: right;\">\n",
       "      <th></th>\n",
       "      <th>ipdst</th>\n",
       "      <th>proto</th>\n",
       "      <th>time</th>\n",
       "      <th>count</th>\n",
       "      <th>prediction</th>\n",
       "      <th>idpst_label</th>\n",
       "    </tr>\n",
       "  </thead>\n",
       "  <tbody>\n",
       "    <tr>\n",
       "      <th>0</th>\n",
       "      <td>10.3.20.102</td>\n",
       "      <td>HTTP</td>\n",
       "      <td>2017-03-20 17:08:55</td>\n",
       "      <td>3</td>\n",
       "      <td>1</td>\n",
       "      <td>0</td>\n",
       "    </tr>\n",
       "    <tr>\n",
       "      <th>7</th>\n",
       "      <td>10.3.20.102</td>\n",
       "      <td>HTTP</td>\n",
       "      <td>2017-03-20 17:09:30</td>\n",
       "      <td>1</td>\n",
       "      <td>1</td>\n",
       "      <td>0</td>\n",
       "    </tr>\n",
       "    <tr>\n",
       "      <th>8</th>\n",
       "      <td>10.3.20.102</td>\n",
       "      <td>TCP</td>\n",
       "      <td>2017-03-20 17:08:50</td>\n",
       "      <td>3</td>\n",
       "      <td>1</td>\n",
       "      <td>0</td>\n",
       "    </tr>\n",
       "    <tr>\n",
       "      <th>9</th>\n",
       "      <td>10.3.20.102</td>\n",
       "      <td>TCP</td>\n",
       "      <td>2017-03-20 17:08:55</td>\n",
       "      <td>104</td>\n",
       "      <td>1</td>\n",
       "      <td>0</td>\n",
       "    </tr>\n",
       "    <tr>\n",
       "      <th>10</th>\n",
       "      <td>10.3.20.102</td>\n",
       "      <td>TCP</td>\n",
       "      <td>2017-03-20 17:09:00</td>\n",
       "      <td>204</td>\n",
       "      <td>-1</td>\n",
       "      <td>0</td>\n",
       "    </tr>\n",
       "  </tbody>\n",
       "</table>\n",
       "</div>"
      ],
      "text/plain": [
       "          ipdst proto                time  count  prediction  idpst_label\n",
       "0   10.3.20.102  HTTP 2017-03-20 17:08:55      3           1            0\n",
       "7   10.3.20.102  HTTP 2017-03-20 17:09:30      1           1            0\n",
       "8   10.3.20.102   TCP 2017-03-20 17:08:50      3           1            0\n",
       "9   10.3.20.102   TCP 2017-03-20 17:08:55    104           1            0\n",
       "10  10.3.20.102   TCP 2017-03-20 17:09:00    204          -1            0"
      ]
     },
     "execution_count": 11,
     "metadata": {},
     "output_type": "execute_result"
    }
   ],
   "source": [
    "import numpy as np, matplotlib.pyplot as plt\n",
    "from matplotlib.colors import ListedColormap\n",
    "\n",
    "def plot_decision(X, y, classifier, test_idx=None, resolution=0.02, figsize=(6,6)):\n",
    "\n",
    "    # setup marker generator and color map\n",
    "    markers = ('s', 'x', 'o', '^', 'v')\n",
    "    colors = ('#cc0000', '#003399', '#00cc00', '#999999', '#66ffff')\n",
    "    cmap = ListedColormap(colors[:len(np.unique(y))])\n",
    "    \n",
    "    # get dimensions\n",
    "    x1_min, x1_max = X[:, 0].min() - 1, X[:, 0].max() + 1\n",
    "    x2_min, x2_max = X[:, 1].min() - 1, X[:, 1].max() + 1\n",
    "    xx1, xx2 = np.meshgrid(np.arange(x1_min, x1_max, resolution), np.arange(x2_min, x2_max, resolution))\n",
    "    xmin = xx1.min()\n",
    "    xmax = xx1.max()\n",
    "    ymin = xx2.min()\n",
    "    ymax = xx2.max()\n",
    "    \n",
    "    # create the figure\n",
    "    fig, ax = plt.subplots(figsize=figsize)\n",
    "    ax.set_xlim(xmin, xmax)\n",
    "    ax.set_ylim(ymin, ymax)\n",
    "    \n",
    "    # plot the decision surface\n",
    "    Z = classifier.predict(np.array([xx1.ravel(), xx2.ravel()]).T)\n",
    "    Z = Z.reshape(xx1.shape)\n",
    "    ax.contourf(xx1, xx2, Z, alpha=0.4, cmap=cmap, zorder=1)\n",
    "    \n",
    "    # plot all samples\n",
    "    for idx, cl in enumerate(np.unique(y)):\n",
    "        ax.scatter(x=X[y == cl, 0], \n",
    "                   y=X[y == cl, 1],\n",
    "                   alpha=0.6, \n",
    "                   c=cmap(idx),\n",
    "                   edgecolor='black',\n",
    "                   marker='o',#markers[idx],\n",
    "                   s=50,\n",
    "                   label=cl,\n",
    "                   zorder=3)\n",
    "\n",
    "    # highlight test samples\n",
    "    if test_idx:\n",
    "        X_test, y_test = X[test_idx, :], y[test_idx]\n",
    "        ax.scatter(X_test[:, 0],\n",
    "                   X_test[:, 1],\n",
    "                   c='w',\n",
    "                   alpha=1.0,\n",
    "                   edgecolor='black',\n",
    "                   linewidths=1,\n",
    "                   marker='o',\n",
    "                   s=150, \n",
    "                   label='test set',\n",
    "                   zorder=2)\n",
    "        \n",
    "dataGroup2['idpst_label'], _ = pd.factorize(dataGroup2['ipdst'])\n",
    "dataGroup2"
   ]
  },
  {
   "cell_type": "code",
   "execution_count": 12,
   "metadata": {},
   "outputs": [
    {
     "name": "stdout",
     "output_type": "stream",
     "text": [
      "Misclassified samples: 0\n",
      "Accuracy: 1.00\n"
     ]
    },
    {
     "data": {
      "image/png": "[encoded data removed]",
      "text/plain": [
       "<matplotlib.figure.Figure at 0x7fed6c4b51d0>"
      ]
     },
     "metadata": {},
     "output_type": "display_data"
    }
   ],
   "source": [
    "import numpy as np, pandas as pd, matplotlib.pyplot as plt, pydotplus\n",
    "from sklearn import tree, metrics, model_selection, preprocessing\n",
    "from IPython.display import Image, display\n",
    "\n",
    "dataGroup2['idpst_label'], _ = pd.factorize(dataGroup2['ipdst'])\n",
    "\n",
    "y = dataGroup2['idpst_label']\n",
    "X = dataGroup2[['prediction', 'count']]\n",
    "\n",
    "# split data randomly into 70% training and 30% test\n",
    "X_train, X_test, y_train, y_test = model_selection.train_test_split(X, y, test_size=0.3, random_state=0)\n",
    "\n",
    "# train the decision tree\n",
    "dtree = tree.DecisionTreeClassifier(criterion='entropy', max_depth=3, random_state=0)\n",
    "dtree.fit(X_train, y_train)\n",
    "\n",
    "# use the model to make predictions with the test data\n",
    "y_pred = dtree.predict(X_test)\n",
    "\n",
    "# how did our model perform?\n",
    "count_misclassified = (y_test != y_pred).sum()\n",
    "print('Misclassified samples: {}'.format(count_misclassified))\n",
    "accuracy = metrics.accuracy_score(y_test, y_pred)\n",
    "print('Accuracy: {:.2f}'.format(accuracy))\n",
    "\n",
    "\n",
    "\n",
    "# visualize the model's decision regions to see how it separates the samples\n",
    "X_combined = np.vstack((X_train, X_test))\n",
    "y_combined = np.hstack((y_train, y_test))\n",
    "plot_decision(X=X_combined, y=y_combined, classifier=dtree)\n",
    "plt.xlabel('prediction')\n",
    "plt.ylabel('count')\n",
    "plt.legend(loc='upper left')\n",
    "plt.show()\n",
    "\n",
    "# Solo tenemos una IP."
   ]
  },
  {
   "cell_type": "code",
   "execution_count": 13,
   "metadata": {},
   "outputs": [
    {
     "data": {
      "image/png": "[encoded data removed]",
      "text/plain": [
       "<IPython.core.display.Image object>"
      ]
     },
     "metadata": {},
     "output_type": "display_data"
    }
   ],
   "source": [
    "dot_data = tree.export_graphviz(dtree, out_file=None, filled=False, rounded=False,\n",
    "                                feature_names=['count', 'count'],  \n",
    "                                class_names=['10.3.20.102'])\n",
    "                                #class_names=['ip1', 'ip2', 'ip3', ...])\n",
    "graph = pydotplus.graph_from_dot_data(dot_data)  \n",
    "display(Image(graph.create_png()))\n",
    "\n",
    "# Solo muestra uno debido a que solo tenemos una IP"
   ]
  },
  {
   "cell_type": "markdown",
   "metadata": {},
   "source": [
    "El ejemplo con más IPs sería:\n",
    "![](prediction.png)\n",
    "![](tree.png)"
   ]
  },
  {
   "cell_type": "markdown",
   "metadata": {},
   "source": [
    "## 5. Gráficas"
   ]
  },
  {
   "cell_type": "code",
   "execution_count": 14,
   "metadata": {},
   "outputs": [
    {
     "data": {
      "text/html": [
       "<script>requirejs.config({paths: { 'plotly': ['https://cdn.plot.ly/plotly-latest.min']},});if(!window.Plotly) {{require(['plotly'],function(plotly) {window.Plotly=plotly;});}}</script>"
      ],
      "text/vnd.plotly.v1+html": [
       "<script>requirejs.config({paths: { 'plotly': ['https://cdn.plot.ly/plotly-latest.min']},});if(!window.Plotly) {{require(['plotly'],function(plotly) {window.Plotly=plotly;});}}</script>"
      ]
     },
     "metadata": {},
     "output_type": "display_data"
    }
   ],
   "source": [
    "import plotly.plotly as py\n",
    "from plotly import __version__\n",
    "from plotly.offline import download_plotlyjs, init_notebook_mode, plot, iplot\n",
    "from plotly.graph_objs import Scatter, Figure, Layout\n",
    "init_notebook_mode(connected=True)\n",
    "\n",
    "import plotly.offline as offline\n",
    "import plotly.graph_objs as go\n",
    "from plotly.graph_objs import *"
   ]
  },
  {
   "cell_type": "markdown",
   "metadata": {},
   "source": [
    "### 5.1 Sin ordenar Tiempos"
   ]
  },
  {
   "cell_type": "code",
   "execution_count": 15,
   "metadata": {},
   "outputs": [
    {
     "data": {
      "text/html": [
       "<div>\n",
       "<style>\n",
       "    .dataframe thead tr:only-child th {\n",
       "        text-align: right;\n",
       "    }\n",
       "\n",
       "    .dataframe thead th {\n",
       "        text-align: left;\n",
       "    }\n",
       "\n",
       "    .dataframe tbody tr th {\n",
       "        vertical-align: top;\n",
       "    }\n",
       "</style>\n",
       "<table border=\"1\" class=\"dataframe\">\n",
       "  <thead>\n",
       "    <tr style=\"text-align: right;\">\n",
       "      <th></th>\n",
       "      <th>ipdst</th>\n",
       "      <th>proto</th>\n",
       "      <th>time</th>\n",
       "      <th>count</th>\n",
       "      <th>prediction</th>\n",
       "      <th>idpst_label</th>\n",
       "    </tr>\n",
       "  </thead>\n",
       "  <tbody>\n",
       "    <tr>\n",
       "      <th>0</th>\n",
       "      <td>10.3.20.102</td>\n",
       "      <td>HTTP</td>\n",
       "      <td>2017-03-20 17:08:55</td>\n",
       "      <td>3</td>\n",
       "      <td>1</td>\n",
       "      <td>0</td>\n",
       "    </tr>\n",
       "    <tr>\n",
       "      <th>7</th>\n",
       "      <td>10.3.20.102</td>\n",
       "      <td>HTTP</td>\n",
       "      <td>2017-03-20 17:09:30</td>\n",
       "      <td>1</td>\n",
       "      <td>1</td>\n",
       "      <td>0</td>\n",
       "    </tr>\n",
       "    <tr>\n",
       "      <th>8</th>\n",
       "      <td>10.3.20.102</td>\n",
       "      <td>TCP</td>\n",
       "      <td>2017-03-20 17:08:50</td>\n",
       "      <td>3</td>\n",
       "      <td>1</td>\n",
       "      <td>0</td>\n",
       "    </tr>\n",
       "    <tr>\n",
       "      <th>9</th>\n",
       "      <td>10.3.20.102</td>\n",
       "      <td>TCP</td>\n",
       "      <td>2017-03-20 17:08:55</td>\n",
       "      <td>104</td>\n",
       "      <td>1</td>\n",
       "      <td>0</td>\n",
       "    </tr>\n",
       "    <tr>\n",
       "      <th>10</th>\n",
       "      <td>10.3.20.102</td>\n",
       "      <td>TCP</td>\n",
       "      <td>2017-03-20 17:09:00</td>\n",
       "      <td>204</td>\n",
       "      <td>-1</td>\n",
       "      <td>0</td>\n",
       "    </tr>\n",
       "  </tbody>\n",
       "</table>\n",
       "</div>"
      ],
      "text/plain": [
       "          ipdst proto                time  count  prediction  idpst_label\n",
       "0   10.3.20.102  HTTP 2017-03-20 17:08:55      3           1            0\n",
       "7   10.3.20.102  HTTP 2017-03-20 17:09:30      1           1            0\n",
       "8   10.3.20.102   TCP 2017-03-20 17:08:50      3           1            0\n",
       "9   10.3.20.102   TCP 2017-03-20 17:08:55    104           1            0\n",
       "10  10.3.20.102   TCP 2017-03-20 17:09:00    204          -1            0"
      ]
     },
     "execution_count": 15,
     "metadata": {},
     "output_type": "execute_result"
    }
   ],
   "source": [
    "dataGroup2"
   ]
  },
  {
   "cell_type": "code",
   "execution_count": 16,
   "metadata": {},
   "outputs": [
    {
     "data": {
      "application/vnd.plotly.v1+json": {
       "data": [
        {
         "mode": "lines+markers",
         "name": "Normal Traffic",
         "type": "scatter",
         "x": [
          "2017-03-20 17:08:55",
          "2017-03-20 17:09:30",
          "2017-03-20 17:08:50",
          "2017-03-20 17:08:55"
         ],
         "y": [
          3,
          1,
          3,
          104
         ]
        },
        {
         "marker": {
          "color": "rgb(255, 0, 0)",
          "size": 7,
          "symbol": "circle"
         },
         "mode": "markers",
         "name": "Anomalies",
         "opacity": 0.8,
         "x": [
          "2017-03-20 17:09:00"
         ],
         "y": [
          204
         ]
        }
       ],
       "layout": {
        "legend": {
         "bgcolor": "#E2E2E2",
         "bordercolor": "#FFFFFF",
         "borderwidth": 2,
         "font": {
          "color": "#000",
          "family": "sans-serif",
          "size": 12
         },
         "traceorder": "normal",
         "x": 0,
         "y": 1
        },
        "title": "Peticiones totales por tiempo",
        "xaxis": {
         "rangeslider": {},
         "title": "Date",
         "type": "date"
        },
        "yaxis": {
         "title": "Nº packets"
        }
       }
      },
      "text/html": [
       "<div id=\"d739510d-f780-420d-9eb2-26d82bdb7601\" style=\"height: 525px; width: 100%;\" class=\"plotly-graph-div\"></div><script type=\"text/javascript\">require([\"plotly\"], function(Plotly) { window.PLOTLYENV=window.PLOTLYENV || {};window.PLOTLYENV.BASE_URL=\"https://plot.ly\";Plotly.newPlot(\"d739510d-f780-420d-9eb2-26d82bdb7601\", [{\"type\": \"scatter\", \"x\": [\"2017-03-20 17:08:55\", \"2017-03-20 17:09:30\", \"2017-03-20 17:08:50\", \"2017-03-20 17:08:55\"], \"y\": [3.0, 1.0, 3.0, 104.0], \"mode\": \"lines+markers\", \"name\": \"Normal Traffic\"}, {\"x\": [\"2017-03-20 17:09:00\"], \"y\": [204.0], \"name\": \"Anomalies\", \"mode\": \"markers\", \"marker\": {\"size\": 7, \"symbol\": \"circle\", \"color\": \"rgb(255, 0, 0)\"}, \"opacity\": 0.8}], {\"title\": \"Peticiones totales por tiempo\", \"xaxis\": {\"title\": \"Date\", \"rangeslider\": {}, \"type\": \"date\"}, \"yaxis\": {\"title\": \"N\\u00ba packets\"}, \"legend\": {\"x\": 0, \"y\": 1, \"traceorder\": \"normal\", \"font\": {\"family\": \"sans-serif\", \"size\": 12, \"color\": \"#000\"}, \"bgcolor\": \"#E2E2E2\", \"bordercolor\": \"#FFFFFF\", \"borderwidth\": 2}}, {\"showLink\": true, \"linkText\": \"Export to plot.ly\"})});</script>"
      ],
      "text/vnd.plotly.v1+html": [
       "<div id=\"d739510d-f780-420d-9eb2-26d82bdb7601\" style=\"height: 525px; width: 100%;\" class=\"plotly-graph-div\"></div><script type=\"text/javascript\">require([\"plotly\"], function(Plotly) { window.PLOTLYENV=window.PLOTLYENV || {};window.PLOTLYENV.BASE_URL=\"https://plot.ly\";Plotly.newPlot(\"d739510d-f780-420d-9eb2-26d82bdb7601\", [{\"type\": \"scatter\", \"x\": [\"2017-03-20 17:08:55\", \"2017-03-20 17:09:30\", \"2017-03-20 17:08:50\", \"2017-03-20 17:08:55\"], \"y\": [3.0, 1.0, 3.0, 104.0], \"mode\": \"lines+markers\", \"name\": \"Normal Traffic\"}, {\"x\": [\"2017-03-20 17:09:00\"], \"y\": [204.0], \"name\": \"Anomalies\", \"mode\": \"markers\", \"marker\": {\"size\": 7, \"symbol\": \"circle\", \"color\": \"rgb(255, 0, 0)\"}, \"opacity\": 0.8}], {\"title\": \"Peticiones totales por tiempo\", \"xaxis\": {\"title\": \"Date\", \"rangeslider\": {}, \"type\": \"date\"}, \"yaxis\": {\"title\": \"N\\u00ba packets\"}, \"legend\": {\"x\": 0, \"y\": 1, \"traceorder\": \"normal\", \"font\": {\"family\": \"sans-serif\", \"size\": 12, \"color\": \"#000\"}, \"bgcolor\": \"#E2E2E2\", \"bordercolor\": \"#FFFFFF\", \"borderwidth\": 2}}, {\"showLink\": true, \"linkText\": \"Export to plot.ly\"})});</script>"
      ]
     },
     "metadata": {},
     "output_type": "display_data"
    }
   ],
   "source": [
    "#Normal Traffic\n",
    "nor = dataGroup2[(dataGroup2['prediction'] == 1)]['count']\n",
    "#Anomalies\n",
    "ano = dataGroup2[(dataGroup2['prediction'] == -1)]['count']\n",
    "\n",
    "\n",
    "normal = go.Scatter(\n",
    "    x = dataGroup2[(dataGroup2['prediction'] == 1)]['time'],\n",
    "    y = nor,\n",
    "    mode = \"lines+markers\",\n",
    "    name = \"Normal Traffic\"\n",
    ")\n",
    "\n",
    "\n",
    "anomalies = dict(\n",
    "    x=dataGroup2[(dataGroup2['prediction'] == -1)]['time'],\n",
    "    y=ano,\n",
    "    name = \"Anomalies\",\n",
    "    mode = 'markers',\n",
    "    marker=Marker(\n",
    "            size=7,\n",
    "            symbol= \"circle\",\n",
    "            color='rgb(255, 0, 0)'\n",
    "        ),\n",
    "    opacity = 0.8)\n",
    "\n",
    "data = [normal, anomalies]\n",
    "\n",
    "layout = dict(\n",
    "    title='Peticiones totales por tiempo',\n",
    "    xaxis=dict(\n",
    "        title = 'Date',\n",
    "        rangeslider=dict(),\n",
    "        type='date'\n",
    "    ),\n",
    "    yaxis=dict(\n",
    "        title = 'Nº packets'\n",
    "    ),\n",
    "    legend=dict(\n",
    "        x=0,\n",
    "        y=1,\n",
    "        traceorder='normal',\n",
    "        font=dict(\n",
    "            family='sans-serif',\n",
    "            size=12,\n",
    "            color='#000'\n",
    "        ),\n",
    "        bgcolor='#E2E2E2',\n",
    "        bordercolor='#FFFFFF',\n",
    "        borderwidth=2\n",
    "    ) \n",
    ")\n",
    "\n",
    "fig = dict(data=data, layout=layout)\n",
    "iplot(fig, filename = \"Peticiones totales por tiempo\")"
   ]
  },
  {
   "cell_type": "markdown",
   "metadata": {},
   "source": [
    "### 5.2 Ordenando Tiempos"
   ]
  },
  {
   "cell_type": "code",
   "execution_count": 17,
   "metadata": {},
   "outputs": [
    {
     "data": {
      "text/html": [
       "<div>\n",
       "<style>\n",
       "    .dataframe thead tr:only-child th {\n",
       "        text-align: right;\n",
       "    }\n",
       "\n",
       "    .dataframe thead th {\n",
       "        text-align: left;\n",
       "    }\n",
       "\n",
       "    .dataframe tbody tr th {\n",
       "        vertical-align: top;\n",
       "    }\n",
       "</style>\n",
       "<table border=\"1\" class=\"dataframe\">\n",
       "  <thead>\n",
       "    <tr style=\"text-align: right;\">\n",
       "      <th></th>\n",
       "      <th>ipdst</th>\n",
       "      <th>proto</th>\n",
       "      <th>time</th>\n",
       "      <th>count</th>\n",
       "      <th>prediction</th>\n",
       "      <th>idpst_label</th>\n",
       "    </tr>\n",
       "  </thead>\n",
       "  <tbody>\n",
       "    <tr>\n",
       "      <th>8</th>\n",
       "      <td>10.3.20.102</td>\n",
       "      <td>TCP</td>\n",
       "      <td>2017-03-20 17:08:50</td>\n",
       "      <td>3</td>\n",
       "      <td>1</td>\n",
       "      <td>0</td>\n",
       "    </tr>\n",
       "    <tr>\n",
       "      <th>0</th>\n",
       "      <td>10.3.20.102</td>\n",
       "      <td>HTTP</td>\n",
       "      <td>2017-03-20 17:08:55</td>\n",
       "      <td>3</td>\n",
       "      <td>1</td>\n",
       "      <td>0</td>\n",
       "    </tr>\n",
       "    <tr>\n",
       "      <th>9</th>\n",
       "      <td>10.3.20.102</td>\n",
       "      <td>TCP</td>\n",
       "      <td>2017-03-20 17:08:55</td>\n",
       "      <td>104</td>\n",
       "      <td>1</td>\n",
       "      <td>0</td>\n",
       "    </tr>\n",
       "    <tr>\n",
       "      <th>10</th>\n",
       "      <td>10.3.20.102</td>\n",
       "      <td>TCP</td>\n",
       "      <td>2017-03-20 17:09:00</td>\n",
       "      <td>204</td>\n",
       "      <td>-1</td>\n",
       "      <td>0</td>\n",
       "    </tr>\n",
       "    <tr>\n",
       "      <th>7</th>\n",
       "      <td>10.3.20.102</td>\n",
       "      <td>HTTP</td>\n",
       "      <td>2017-03-20 17:09:30</td>\n",
       "      <td>1</td>\n",
       "      <td>1</td>\n",
       "      <td>0</td>\n",
       "    </tr>\n",
       "  </tbody>\n",
       "</table>\n",
       "</div>"
      ],
      "text/plain": [
       "          ipdst proto                time  count  prediction  idpst_label\n",
       "8   10.3.20.102   TCP 2017-03-20 17:08:50      3           1            0\n",
       "0   10.3.20.102  HTTP 2017-03-20 17:08:55      3           1            0\n",
       "9   10.3.20.102   TCP 2017-03-20 17:08:55    104           1            0\n",
       "10  10.3.20.102   TCP 2017-03-20 17:09:00    204          -1            0\n",
       "7   10.3.20.102  HTTP 2017-03-20 17:09:30      1           1            0"
      ]
     },
     "execution_count": 17,
     "metadata": {},
     "output_type": "execute_result"
    }
   ],
   "source": [
    "dataGroup3 = dataGroup2.sort_values(by=['time'])\n",
    "dataGroup3"
   ]
  },
  {
   "cell_type": "code",
   "execution_count": 18,
   "metadata": {},
   "outputs": [
    {
     "data": {
      "application/vnd.plotly.v1+json": {
       "data": [
        {
         "mode": "lines+markers",
         "name": "Normal Traffic",
         "type": "scatter",
         "x": [
          "2017-03-20 17:08:50",
          "2017-03-20 17:08:55",
          "2017-03-20 17:08:55",
          "2017-03-20 17:09:30"
         ],
         "y": [
          3,
          3,
          104,
          1
         ]
        },
        {
         "marker": {
          "color": "rgb(255, 0, 0)",
          "size": 7,
          "symbol": "circle"
         },
         "mode": "markers",
         "name": "Anomalies",
         "opacity": 0.8,
         "x": [
          "2017-03-20 17:09:00"
         ],
         "y": [
          204
         ]
        }
       ],
       "layout": {
        "legend": {
         "bgcolor": "#E2E2E2",
         "bordercolor": "#FFFFFF",
         "borderwidth": 2,
         "font": {
          "color": "#000",
          "family": "sans-serif",
          "size": 12
         },
         "traceorder": "normal",
         "x": 0,
         "y": 1
        },
        "title": "Peticiones totales por tiempo",
        "xaxis": {
         "rangeslider": {},
         "title": "Date",
         "type": "date"
        },
        "yaxis": {
         "title": "Nº packets"
        }
       }
      },
      "text/html": [
       "<div id=\"f766d070-d8fd-4065-bf67-82c7bd8eaf65\" style=\"height: 525px; width: 100%;\" class=\"plotly-graph-div\"></div><script type=\"text/javascript\">require([\"plotly\"], function(Plotly) { window.PLOTLYENV=window.PLOTLYENV || {};window.PLOTLYENV.BASE_URL=\"https://plot.ly\";Plotly.newPlot(\"f766d070-d8fd-4065-bf67-82c7bd8eaf65\", [{\"type\": \"scatter\", \"x\": [\"2017-03-20 17:08:50\", \"2017-03-20 17:08:55\", \"2017-03-20 17:08:55\", \"2017-03-20 17:09:30\"], \"y\": [3.0, 3.0, 104.0, 1.0], \"mode\": \"lines+markers\", \"name\": \"Normal Traffic\"}, {\"x\": [\"2017-03-20 17:09:00\"], \"y\": [204.0], \"name\": \"Anomalies\", \"mode\": \"markers\", \"marker\": {\"size\": 7, \"symbol\": \"circle\", \"color\": \"rgb(255, 0, 0)\"}, \"opacity\": 0.8}], {\"title\": \"Peticiones totales por tiempo\", \"xaxis\": {\"title\": \"Date\", \"rangeslider\": {}, \"type\": \"date\"}, \"yaxis\": {\"title\": \"N\\u00ba packets\"}, \"legend\": {\"x\": 0, \"y\": 1, \"traceorder\": \"normal\", \"font\": {\"family\": \"sans-serif\", \"size\": 12, \"color\": \"#000\"}, \"bgcolor\": \"#E2E2E2\", \"bordercolor\": \"#FFFFFF\", \"borderwidth\": 2}}, {\"showLink\": true, \"linkText\": \"Export to plot.ly\"})});</script>"
      ],
      "text/vnd.plotly.v1+html": [
       "<div id=\"f766d070-d8fd-4065-bf67-82c7bd8eaf65\" style=\"height: 525px; width: 100%;\" class=\"plotly-graph-div\"></div><script type=\"text/javascript\">require([\"plotly\"], function(Plotly) { window.PLOTLYENV=window.PLOTLYENV || {};window.PLOTLYENV.BASE_URL=\"https://plot.ly\";Plotly.newPlot(\"f766d070-d8fd-4065-bf67-82c7bd8eaf65\", [{\"type\": \"scatter\", \"x\": [\"2017-03-20 17:08:50\", \"2017-03-20 17:08:55\", \"2017-03-20 17:08:55\", \"2017-03-20 17:09:30\"], \"y\": [3.0, 3.0, 104.0, 1.0], \"mode\": \"lines+markers\", \"name\": \"Normal Traffic\"}, {\"x\": [\"2017-03-20 17:09:00\"], \"y\": [204.0], \"name\": \"Anomalies\", \"mode\": \"markers\", \"marker\": {\"size\": 7, \"symbol\": \"circle\", \"color\": \"rgb(255, 0, 0)\"}, \"opacity\": 0.8}], {\"title\": \"Peticiones totales por tiempo\", \"xaxis\": {\"title\": \"Date\", \"rangeslider\": {}, \"type\": \"date\"}, \"yaxis\": {\"title\": \"N\\u00ba packets\"}, \"legend\": {\"x\": 0, \"y\": 1, \"traceorder\": \"normal\", \"font\": {\"family\": \"sans-serif\", \"size\": 12, \"color\": \"#000\"}, \"bgcolor\": \"#E2E2E2\", \"bordercolor\": \"#FFFFFF\", \"borderwidth\": 2}}, {\"showLink\": true, \"linkText\": \"Export to plot.ly\"})});</script>"
      ]
     },
     "metadata": {},
     "output_type": "display_data"
    }
   ],
   "source": [
    "#Normal Traffic\n",
    "nor = dataGroup3[(dataGroup3['prediction'] == 1)]['count']\n",
    "#Anomalies\n",
    "ano = dataGroup3[(dataGroup3['prediction'] == -1)]['count']\n",
    "\n",
    "\n",
    "normal = go.Scatter(\n",
    "    x = dataGroup3[(dataGroup3['prediction'] == 1)]['time'],\n",
    "    y = nor,\n",
    "    mode = \"lines+markers\",\n",
    "    name = \"Normal Traffic\"\n",
    ")\n",
    "\n",
    "\n",
    "anomalies = dict(\n",
    "    x=dataGroup3[(dataGroup3['prediction'] == -1)]['time'],\n",
    "    y=ano,\n",
    "    name = \"Anomalies\",\n",
    "    mode = 'markers',\n",
    "    marker=Marker(\n",
    "            size=7,\n",
    "            symbol= \"circle\",\n",
    "            color='rgb(255, 0, 0)'\n",
    "        ),\n",
    "    opacity = 0.8)\n",
    "\n",
    "data = [normal, anomalies]\n",
    "\n",
    "layout = dict(\n",
    "    title='Peticiones totales por tiempo',\n",
    "    xaxis=dict(\n",
    "        title = 'Date',\n",
    "        rangeslider=dict(),\n",
    "        type='date'\n",
    "    ),\n",
    "    yaxis=dict(\n",
    "        title = 'Nº packets'\n",
    "    ),\n",
    "    legend=dict(\n",
    "        x=0,\n",
    "        y=1,\n",
    "        traceorder='normal',\n",
    "        font=dict(\n",
    "            family='sans-serif',\n",
    "            size=12,\n",
    "            color='#000'\n",
    "        ),\n",
    "        bgcolor='#E2E2E2',\n",
    "        bordercolor='#FFFFFF',\n",
    "        borderwidth=2\n",
    "    ) \n",
    ")\n",
    "\n",
    "fig = dict(data=data, layout=layout)\n",
    "iplot(fig, filename = \"Peticiones totales por tiempo\")"
   ]
  },
  {
   "cell_type": "code",
   "execution_count": 19,
   "metadata": {},
   "outputs": [
    {
     "data": {
      "text/html": [
       "<div>\n",
       "<style>\n",
       "    .dataframe thead tr:only-child th {\n",
       "        text-align: right;\n",
       "    }\n",
       "\n",
       "    .dataframe thead th {\n",
       "        text-align: left;\n",
       "    }\n",
       "\n",
       "    .dataframe tbody tr th {\n",
       "        vertical-align: top;\n",
       "    }\n",
       "</style>\n",
       "<table border=\"1\" class=\"dataframe\">\n",
       "  <thead>\n",
       "    <tr style=\"text-align: right;\">\n",
       "      <th></th>\n",
       "      <th>time</th>\n",
       "      <th>count</th>\n",
       "      <th>prediction</th>\n",
       "      <th>idpst_label</th>\n",
       "    </tr>\n",
       "  </thead>\n",
       "  <tbody>\n",
       "    <tr>\n",
       "      <th>0</th>\n",
       "      <td>2017-03-20 17:08:50</td>\n",
       "      <td>3</td>\n",
       "      <td>1</td>\n",
       "      <td>0</td>\n",
       "    </tr>\n",
       "    <tr>\n",
       "      <th>1</th>\n",
       "      <td>2017-03-20 17:08:55</td>\n",
       "      <td>107</td>\n",
       "      <td>2</td>\n",
       "      <td>0</td>\n",
       "    </tr>\n",
       "    <tr>\n",
       "      <th>2</th>\n",
       "      <td>2017-03-20 17:09:00</td>\n",
       "      <td>204</td>\n",
       "      <td>-1</td>\n",
       "      <td>0</td>\n",
       "    </tr>\n",
       "    <tr>\n",
       "      <th>3</th>\n",
       "      <td>2017-03-20 17:09:30</td>\n",
       "      <td>1</td>\n",
       "      <td>1</td>\n",
       "      <td>0</td>\n",
       "    </tr>\n",
       "  </tbody>\n",
       "</table>\n",
       "</div>"
      ],
      "text/plain": [
       "                 time  count  prediction  idpst_label\n",
       "0 2017-03-20 17:08:50      3           1            0\n",
       "1 2017-03-20 17:08:55    107           2            0\n",
       "2 2017-03-20 17:09:00    204          -1            0\n",
       "3 2017-03-20 17:09:30      1           1            0"
      ]
     },
     "execution_count": 19,
     "metadata": {},
     "output_type": "execute_result"
    }
   ],
   "source": [
    "dataGroup4 = dataGroup2.groupby(['time']).sum().reset_index().dropna()\n",
    "dataGroup4"
   ]
  },
  {
   "cell_type": "code",
   "execution_count": 20,
   "metadata": {},
   "outputs": [
    {
     "data": {
      "application/vnd.plotly.v1+json": {
       "data": [
        {
         "mode": "lines+markers",
         "name": "Normal Traffic",
         "type": "scatter",
         "x": [
          "2017-03-20 17:08:50",
          "2017-03-20 17:09:30"
         ],
         "y": [
          3,
          1
         ]
        },
        {
         "marker": {
          "color": "rgb(255, 0, 0)",
          "size": 7,
          "symbol": "circle"
         },
         "mode": "markers",
         "name": "Anomalies",
         "opacity": 0.8,
         "x": [
          "2017-03-20 17:09:00"
         ],
         "y": [
          204
         ]
        }
       ],
       "layout": {
        "legend": {
         "bgcolor": "#E2E2E2",
         "bordercolor": "#FFFFFF",
         "borderwidth": 2,
         "font": {
          "color": "#000",
          "family": "sans-serif",
          "size": 12
         },
         "traceorder": "normal",
         "x": 0,
         "y": 1
        },
        "title": "Peticiones totales por tiempo",
        "xaxis": {
         "rangeslider": {},
         "title": "Date",
         "type": "date"
        },
        "yaxis": {
         "title": "Nº packets"
        }
       }
      },
      "text/html": [
       "<div id=\"85b048e4-f972-440c-9748-b183a5493aaf\" style=\"height: 525px; width: 100%;\" class=\"plotly-graph-div\"></div><script type=\"text/javascript\">require([\"plotly\"], function(Plotly) { window.PLOTLYENV=window.PLOTLYENV || {};window.PLOTLYENV.BASE_URL=\"https://plot.ly\";Plotly.newPlot(\"85b048e4-f972-440c-9748-b183a5493aaf\", [{\"type\": \"scatter\", \"x\": [\"2017-03-20 17:08:50\", \"2017-03-20 17:09:30\"], \"y\": [3.0, 1.0], \"mode\": \"lines+markers\", \"name\": \"Normal Traffic\"}, {\"x\": [\"2017-03-20 17:09:00\"], \"y\": [204.0], \"name\": \"Anomalies\", \"mode\": \"markers\", \"marker\": {\"size\": 7, \"symbol\": \"circle\", \"color\": \"rgb(255, 0, 0)\"}, \"opacity\": 0.8}], {\"title\": \"Peticiones totales por tiempo\", \"xaxis\": {\"title\": \"Date\", \"rangeslider\": {}, \"type\": \"date\"}, \"yaxis\": {\"title\": \"N\\u00ba packets\"}, \"legend\": {\"x\": 0, \"y\": 1, \"traceorder\": \"normal\", \"font\": {\"family\": \"sans-serif\", \"size\": 12, \"color\": \"#000\"}, \"bgcolor\": \"#E2E2E2\", \"bordercolor\": \"#FFFFFF\", \"borderwidth\": 2}}, {\"showLink\": true, \"linkText\": \"Export to plot.ly\"})});</script>"
      ],
      "text/vnd.plotly.v1+html": [
       "<div id=\"85b048e4-f972-440c-9748-b183a5493aaf\" style=\"height: 525px; width: 100%;\" class=\"plotly-graph-div\"></div><script type=\"text/javascript\">require([\"plotly\"], function(Plotly) { window.PLOTLYENV=window.PLOTLYENV || {};window.PLOTLYENV.BASE_URL=\"https://plot.ly\";Plotly.newPlot(\"85b048e4-f972-440c-9748-b183a5493aaf\", [{\"type\": \"scatter\", \"x\": [\"2017-03-20 17:08:50\", \"2017-03-20 17:09:30\"], \"y\": [3.0, 1.0], \"mode\": \"lines+markers\", \"name\": \"Normal Traffic\"}, {\"x\": [\"2017-03-20 17:09:00\"], \"y\": [204.0], \"name\": \"Anomalies\", \"mode\": \"markers\", \"marker\": {\"size\": 7, \"symbol\": \"circle\", \"color\": \"rgb(255, 0, 0)\"}, \"opacity\": 0.8}], {\"title\": \"Peticiones totales por tiempo\", \"xaxis\": {\"title\": \"Date\", \"rangeslider\": {}, \"type\": \"date\"}, \"yaxis\": {\"title\": \"N\\u00ba packets\"}, \"legend\": {\"x\": 0, \"y\": 1, \"traceorder\": \"normal\", \"font\": {\"family\": \"sans-serif\", \"size\": 12, \"color\": \"#000\"}, \"bgcolor\": \"#E2E2E2\", \"bordercolor\": \"#FFFFFF\", \"borderwidth\": 2}}, {\"showLink\": true, \"linkText\": \"Export to plot.ly\"})});</script>"
      ]
     },
     "metadata": {},
     "output_type": "display_data"
    }
   ],
   "source": [
    "#Normal Traffic\n",
    "nor = dataGroup4[(dataGroup4['prediction'] == 1)]['count']\n",
    "#Anomalies\n",
    "ano = dataGroup4[(dataGroup4['prediction'] == -1)]['count']\n",
    "\n",
    "\n",
    "normal = go.Scatter(\n",
    "    x = dataGroup4[(dataGroup4['prediction'] == 1)]['time'],\n",
    "    y = nor,\n",
    "    mode = \"lines+markers\",\n",
    "    name = \"Normal Traffic\"\n",
    ")\n",
    "\n",
    "\n",
    "anomalies = dict(\n",
    "    x=dataGroup4[(dataGroup4['prediction'] == -1)]['time'],\n",
    "    y=ano,\n",
    "    name = \"Anomalies\",\n",
    "    mode = 'markers',\n",
    "    marker=Marker(\n",
    "            size=7,\n",
    "            symbol= \"circle\",\n",
    "            color='rgb(255, 0, 0)'\n",
    "        ),\n",
    "    opacity = 0.8)\n",
    "\n",
    "data = [normal, anomalies]\n",
    "\n",
    "layout = dict(\n",
    "    title='Peticiones totales por tiempo',\n",
    "    xaxis=dict(\n",
    "        title = 'Date',\n",
    "        rangeslider=dict(),\n",
    "        type='date'\n",
    "    ),\n",
    "    yaxis=dict(\n",
    "        title = 'Nº packets'\n",
    "    ),\n",
    "    legend=dict(\n",
    "        x=0,\n",
    "        y=1,\n",
    "        traceorder='normal',\n",
    "        font=dict(\n",
    "            family='sans-serif',\n",
    "            size=12,\n",
    "            color='#000'\n",
    "        ),\n",
    "        bgcolor='#E2E2E2',\n",
    "        bordercolor='#FFFFFF',\n",
    "        borderwidth=2\n",
    "    ) \n",
    ")\n",
    "\n",
    "fig = dict(data=data, layout=layout)\n",
    "iplot(fig, filename = \"Peticiones totales por tiempo\")"
   ]
  },
  {
   "cell_type": "markdown",
   "metadata": {},
   "source": [
    "## 6. Mapa anomalías"
   ]
  },
  {
   "cell_type": "code",
   "execution_count": 21,
   "metadata": {},
   "outputs": [
    {
     "data": {
      "application/vnd.plotly.v1+json": {
       "data": [
        {
         "lat": [
          "37.459",
          "29.4889",
          "37.7758",
          "43.3701"
         ],
         "lon": [
          "-122.1781",
          "-98.3987",
          "-122.4128",
          "-8.3288"
         ],
         "marker": {
          "color": "rgb(255, 0, 0)",
          "opacity": 0.7,
          "size": 14
         },
         "mode": "markers",
         "text": [
          "157.240.21.35",
          "23.253.135.79",
          "104.244.42.193",
          "213.60.47.49"
         ],
         "type": "scattermapbox"
        }
       ],
       "layout": {
        "autosize": true,
        "hovermode": "closest",
        "legend": {
         "bgcolor": "#E2E2E2",
         "bordercolor": "#FFFFFF",
         "borderwidth": 2,
         "font": {
          "color": "#000",
          "family": "sans-serif",
          "size": 12
         },
         "traceorder": "normal",
         "x": 0,
         "y": 1
        },
        "mapbox": {
         "accesstoken": "pk.eyJ1IjoiYWxleGZyYW5jb3ciLCJhIjoiY2pnbHlncDF5MHU4OTJ3cGhpNjE1eTV6ZCJ9.9RoVOSpRXa2JE9j_qnELdw",
         "bearing": 0,
         "center": {
          "lat": "43.3701",
          "lon": "-8.3288"
         },
         "pitch": 0,
         "style": "light",
         "zoom": 1
        },
        "showlegend": false
       }
      },
      "text/html": [
       "<div id=\"eec93a71-b9d8-4f19-b2a7-be1fccd1c45a\" style=\"height: 525px; width: 100%;\" class=\"plotly-graph-div\"></div><script type=\"text/javascript\">require([\"plotly\"], function(Plotly) { window.PLOTLYENV=window.PLOTLYENV || {};window.PLOTLYENV.BASE_URL=\"https://plot.ly\";Plotly.newPlot(\"eec93a71-b9d8-4f19-b2a7-be1fccd1c45a\", [{\"type\": \"scattermapbox\", \"lat\": [\"37.459\", \"29.4889\", \"37.7758\", \"43.3701\"], \"lon\": [\"-122.1781\", \"-98.3987\", \"-122.4128\", \"-8.3288\"], \"mode\": \"markers\", \"marker\": {\"size\": 14, \"color\": \"rgb(255, 0, 0)\", \"opacity\": 0.7}, \"text\": [\"157.240.21.35\", \"23.253.135.79\", \"104.244.42.193\", \"213.60.47.49\"]}], {\"autosize\": true, \"hovermode\": \"closest\", \"showlegend\": false, \"mapbox\": {\"accesstoken\": \"pk.eyJ1IjoiYWxleGZyYW5jb3ciLCJhIjoiY2pnbHlncDF5MHU4OTJ3cGhpNjE1eTV6ZCJ9.9RoVOSpRXa2JE9j_qnELdw\", \"bearing\": 0, \"center\": {\"lat\": \"43.3701\", \"lon\": \"-8.3288\"}, \"pitch\": 0, \"style\": \"light\", \"zoom\": 1}, \"legend\": {\"x\": 0, \"y\": 1, \"traceorder\": \"normal\", \"font\": {\"family\": \"sans-serif\", \"size\": 12, \"color\": \"#000\"}, \"bgcolor\": \"#E2E2E2\", \"bordercolor\": \"#FFFFFF\", \"borderwidth\": 2}}, {\"showLink\": true, \"linkText\": \"Export to plot.ly\"})});</script>"
      ],
      "text/vnd.plotly.v1+html": [
       "<div id=\"eec93a71-b9d8-4f19-b2a7-be1fccd1c45a\" style=\"height: 525px; width: 100%;\" class=\"plotly-graph-div\"></div><script type=\"text/javascript\">require([\"plotly\"], function(Plotly) { window.PLOTLYENV=window.PLOTLYENV || {};window.PLOTLYENV.BASE_URL=\"https://plot.ly\";Plotly.newPlot(\"eec93a71-b9d8-4f19-b2a7-be1fccd1c45a\", [{\"type\": \"scattermapbox\", \"lat\": [\"37.459\", \"29.4889\", \"37.7758\", \"43.3701\"], \"lon\": [\"-122.1781\", \"-98.3987\", \"-122.4128\", \"-8.3288\"], \"mode\": \"markers\", \"marker\": {\"size\": 14, \"color\": \"rgb(255, 0, 0)\", \"opacity\": 0.7}, \"text\": [\"157.240.21.35\", \"23.253.135.79\", \"104.244.42.193\", \"213.60.47.49\"]}], {\"autosize\": true, \"hovermode\": \"closest\", \"showlegend\": false, \"mapbox\": {\"accesstoken\": \"pk.eyJ1IjoiYWxleGZyYW5jb3ciLCJhIjoiY2pnbHlncDF5MHU4OTJ3cGhpNjE1eTV6ZCJ9.9RoVOSpRXa2JE9j_qnELdw\", \"bearing\": 0, \"center\": {\"lat\": \"43.3701\", \"lon\": \"-8.3288\"}, \"pitch\": 0, \"style\": \"light\", \"zoom\": 1}, \"legend\": {\"x\": 0, \"y\": 1, \"traceorder\": \"normal\", \"font\": {\"family\": \"sans-serif\", \"size\": 12, \"color\": \"#000\"}, \"bgcolor\": \"#E2E2E2\", \"bordercolor\": \"#FFFFFF\", \"borderwidth\": 2}}, {\"showLink\": true, \"linkText\": \"Export to plot.ly\"})});</script>"
      ]
     },
     "metadata": {},
     "output_type": "display_data"
    }
   ],
   "source": [
    "import re\n",
    "import json\n",
    "from urllib.request import urlopen\n",
    "import plotly.plotly as py\n",
    "from plotly.graph_objs import *\n",
    "import numpy\n",
    "\n",
    "mapbox_access_token = 'pk.eyJ1IjoiYWxleGZyYW5jb3ciLCJhIjoiY2pnbHlncDF5MHU4OTJ3cGhpNjE1eTV6ZCJ9.9RoVOSpRXa2JE9j_qnELdw'\n",
    "\n",
    "# Como el dataframe a analizar no tiene ninguna IP pública se hará uso de 4 IPs públicas elegidas manualmente.\n",
    "#ips = dataGroup2[(dataGroup2['prediction'] == -1)]['ipdst'].values\n",
    "ips = ['157.240.21.35','23.253.135.79','104.244.42.193', '213.60.47.49']\n",
    "\n",
    "\n",
    "outputLat = []\n",
    "outputLon = []\n",
    "for ip in ips:\n",
    "    #url = 'http://ip-api.com/json/'+ip\n",
    "    url = 'http://freegeoip.net/json/'+ip\n",
    "    response = urlopen(url)\n",
    "    data = json.load(response)\n",
    "    #print(ip+\": \")\n",
    "\n",
    "    try:\n",
    "        data['message']\n",
    "        print(\"IP Privada\")\n",
    "\n",
    "    except (KeyError, TypeError) as e:\n",
    "        lat = str(data['latitude'])\n",
    "        latList = str(data['latitude']).split()\n",
    "        lon = str(data['longitude'])\n",
    "        lonList = str(data['longitude']).split()\n",
    "        #print(lat, lon)\n",
    "        outputLat.append(lat)\n",
    "        outputLon.append(lon)\n",
    "        \n",
    "#debug lat and lon array        \n",
    "# print(outputLat)\n",
    "# print(outputLon)\n",
    "        \n",
    "data = Data([\n",
    "    Scattermapbox(\n",
    "        lat=outputLat,\n",
    "        lon=outputLon,\n",
    "        mode='markers',\n",
    "        marker=Marker(\n",
    "            size=14,\n",
    "            color='rgb(255, 0, 0)',\n",
    "            opacity=0.7\n",
    "        ),\n",
    "        text=ips,\n",
    "    ), \n",
    "])\n",
    "\n",
    "#debug data\n",
    "# print(data)\n",
    "\n",
    "layout = Layout(\n",
    "    autosize=True,\n",
    "    hovermode='closest',\n",
    "    showlegend=False,\n",
    "    mapbox=dict(\n",
    "        accesstoken=mapbox_access_token,\n",
    "        bearing=0,\n",
    "        center=dict(\n",
    "            lat=lat,\n",
    "            lon=lon\n",
    "        ),\n",
    "        pitch=0,\n",
    "        style='light',\n",
    "        zoom=1\n",
    "    ),\n",
    "    legend=dict(\n",
    "        x=0,\n",
    "        y=1,\n",
    "        traceorder='normal',\n",
    "        font=dict(\n",
    "            family='sans-serif',\n",
    "            size=12,\n",
    "            color='#000'\n",
    "        ),\n",
    "        bgcolor='#E2E2E2',\n",
    "        bordercolor='#FFFFFF',\n",
    "        borderwidth=2\n",
    "    ), \n",
    ")\n",
    "\n",
    "fig = dict(data=data, layout=layout)\n",
    "iplot(fig, filename='Montreal Mapbox')\n"
   ]
  },
  {
   "cell_type": "markdown",
   "metadata": {
    "collapsed": true
   },
   "source": [
    "## 7. Visualizing a Single Decision Tree\n",
    "https://towardsdatascience.com/random-forest-in-python-24d0893d51c0"
   ]
  },
  {
   "cell_type": "code",
   "execution_count": 22,
   "metadata": {},
   "outputs": [
    {
     "data": {
      "text/html": [
       "<div>\n",
       "<style>\n",
       "    .dataframe thead tr:only-child th {\n",
       "        text-align: right;\n",
       "    }\n",
       "\n",
       "    .dataframe thead th {\n",
       "        text-align: left;\n",
       "    }\n",
       "\n",
       "    .dataframe tbody tr th {\n",
       "        vertical-align: top;\n",
       "    }\n",
       "</style>\n",
       "<table border=\"1\" class=\"dataframe\">\n",
       "  <thead>\n",
       "    <tr style=\"text-align: right;\">\n",
       "      <th></th>\n",
       "      <th>ipdst</th>\n",
       "      <th>proto</th>\n",
       "      <th>time</th>\n",
       "      <th>count</th>\n",
       "      <th>prediction</th>\n",
       "      <th>idpst_label</th>\n",
       "    </tr>\n",
       "  </thead>\n",
       "  <tbody>\n",
       "    <tr>\n",
       "      <th>0</th>\n",
       "      <td>10.3.20.102</td>\n",
       "      <td>HTTP</td>\n",
       "      <td>2017-03-20 17:08:55</td>\n",
       "      <td>3</td>\n",
       "      <td>1</td>\n",
       "      <td>0</td>\n",
       "    </tr>\n",
       "    <tr>\n",
       "      <th>7</th>\n",
       "      <td>10.3.20.102</td>\n",
       "      <td>HTTP</td>\n",
       "      <td>2017-03-20 17:09:30</td>\n",
       "      <td>1</td>\n",
       "      <td>1</td>\n",
       "      <td>0</td>\n",
       "    </tr>\n",
       "    <tr>\n",
       "      <th>8</th>\n",
       "      <td>10.3.20.102</td>\n",
       "      <td>TCP</td>\n",
       "      <td>2017-03-20 17:08:50</td>\n",
       "      <td>3</td>\n",
       "      <td>1</td>\n",
       "      <td>0</td>\n",
       "    </tr>\n",
       "    <tr>\n",
       "      <th>9</th>\n",
       "      <td>10.3.20.102</td>\n",
       "      <td>TCP</td>\n",
       "      <td>2017-03-20 17:08:55</td>\n",
       "      <td>104</td>\n",
       "      <td>1</td>\n",
       "      <td>0</td>\n",
       "    </tr>\n",
       "    <tr>\n",
       "      <th>10</th>\n",
       "      <td>10.3.20.102</td>\n",
       "      <td>TCP</td>\n",
       "      <td>2017-03-20 17:09:00</td>\n",
       "      <td>204</td>\n",
       "      <td>-1</td>\n",
       "      <td>0</td>\n",
       "    </tr>\n",
       "  </tbody>\n",
       "</table>\n",
       "</div>"
      ],
      "text/plain": [
       "          ipdst proto                time  count  prediction  idpst_label\n",
       "0   10.3.20.102  HTTP 2017-03-20 17:08:55      3           1            0\n",
       "7   10.3.20.102  HTTP 2017-03-20 17:09:30      1           1            0\n",
       "8   10.3.20.102   TCP 2017-03-20 17:08:50      3           1            0\n",
       "9   10.3.20.102   TCP 2017-03-20 17:08:55    104           1            0\n",
       "10  10.3.20.102   TCP 2017-03-20 17:09:00    204          -1            0"
      ]
     },
     "execution_count": 22,
     "metadata": {},
     "output_type": "execute_result"
    }
   ],
   "source": [
    "dataGroup2"
   ]
  },
  {
   "cell_type": "markdown",
   "metadata": {},
   "source": [
    "![](tree.png)"
   ]
  },
  {
   "cell_type": "markdown",
   "metadata": {},
   "source": [
    "```python\n",
    "dot_data = tree.export_graphviz(clf, out_file=None,\n",
    "                                    feature_names=feature_list,\n",
    "                                    class_names=feature_list,\n",
    "                                    filled=True, rounded=True,\n",
    "                                    special_characters=True)\n",
    "\n",
    "graph = pydotplus.graph_from_dot_data(dot_data)\n",
    "graph.write_pdf(\"tree-vis.pdf\")\n",
    "joblib.dump(clf, 'CART.pkl') \n",
    "```"
   ]
  },
  {
   "cell_type": "markdown",
   "metadata": {
    "collapsed": true
   },
   "source": [
    "# 8. Detector de IP pública o privada\n",
    "\n",
    "URL: https://chrisalbon.com/python/data_wrangling/pandas_create_column_with_loop/"
   ]
  },
  {
   "cell_type": "markdown",
   "metadata": {},
   "source": [
    "## Predicciones"
   ]
  },
  {
   "cell_type": "code",
   "execution_count": 25,
   "metadata": {},
   "outputs": [
    {
     "name": "stdout",
     "output_type": "stream",
     "text": [
      "10    10.3.20.102 privada\n",
      "Name: ipdst, dtype: object\n"
     ]
    }
   ],
   "source": [
    "ips = dataGroup3[(dataGroup3['prediction'] == -1)]['ipdst']\n",
    "\n",
    "def is_public_ip(ip):\n",
    "    ip = list(map(int, ip.strip().split('.')[:2]))\n",
    "    if ip[0] == 10: return False\n",
    "    if ip[0] == 172 and ip[1] in range(16, 32): return False\n",
    "    if ip[0] == 192 and ip[1] == 168: return False\n",
    "    return True\n",
    "\n",
    "for ip in ips:\n",
    "    if is_public_ip(ip):\n",
    "        print(dataGroup3[(dataGroup3['prediction'] == -1)]['ipdst'] + ' publica')\n",
    "    else:\n",
    "        print(dataGroup3[(dataGroup3['prediction'] == -1)]['ipdst'] + ' privada')"
   ]
  },
  {
   "cell_type": "code",
   "execution_count": 26,
   "metadata": {},
   "outputs": [
    {
     "name": "stderr",
     "output_type": "stream",
     "text": [
      "/home/alexfrancow/anaconda3/lib/python3.6/site-packages/ipykernel_launcher.py:18: SettingWithCopyWarning:\n",
      "\n",
      "\n",
      "A value is trying to be set on a copy of a slice from a DataFrame.\n",
      "Try using .loc[row_indexer,col_indexer] = value instead\n",
      "\n",
      "See the caveats in the documentation: http://pandas.pydata.org/pandas-docs/stable/indexing.html#indexing-view-versus-copy\n",
      "\n"
     ]
    },
    {
     "data": {
      "text/html": [
       "<div>\n",
       "<style>\n",
       "    .dataframe thead tr:only-child th {\n",
       "        text-align: right;\n",
       "    }\n",
       "\n",
       "    .dataframe thead th {\n",
       "        text-align: left;\n",
       "    }\n",
       "\n",
       "    .dataframe tbody tr th {\n",
       "        vertical-align: top;\n",
       "    }\n",
       "</style>\n",
       "<table border=\"1\" class=\"dataframe\">\n",
       "  <thead>\n",
       "    <tr style=\"text-align: right;\">\n",
       "      <th></th>\n",
       "      <th>ipdst</th>\n",
       "      <th>proto</th>\n",
       "      <th>time</th>\n",
       "      <th>count</th>\n",
       "      <th>prediction</th>\n",
       "      <th>idpst_label</th>\n",
       "      <th>tipo</th>\n",
       "    </tr>\n",
       "  </thead>\n",
       "  <tbody>\n",
       "    <tr>\n",
       "      <th>10</th>\n",
       "      <td>10.3.20.102</td>\n",
       "      <td>TCP</td>\n",
       "      <td>2017-03-20 17:09:00</td>\n",
       "      <td>204</td>\n",
       "      <td>-1</td>\n",
       "      <td>0</td>\n",
       "      <td>privada</td>\n",
       "    </tr>\n",
       "  </tbody>\n",
       "</table>\n",
       "</div>"
      ],
      "text/plain": [
       "          ipdst proto                time  count  prediction  idpst_label  \\\n",
       "10  10.3.20.102   TCP 2017-03-20 17:09:00    204          -1            0   \n",
       "\n",
       "       tipo  \n",
       "10  privada  "
      ]
     },
     "execution_count": 26,
     "metadata": {},
     "output_type": "execute_result"
    }
   ],
   "source": [
    "ips = dataGroup3[(dataGroup3['prediction'] == -1)]['ipdst']\n",
    "dataGroup5 = dataGroup3[(dataGroup3['prediction'] == -1)]\n",
    "\n",
    "def is_public_ip(ip):\n",
    "    ip = list(map(int, ip.strip().split('.')[:2]))\n",
    "    if ip[0] == 10: return False\n",
    "    if ip[0] == 172 and ip[1] in range(16, 32): return False\n",
    "    if ip[0] == 192 and ip[1] == 168: return False\n",
    "    return True\n",
    "\n",
    "tipo = []\n",
    "for ip in ips:\n",
    "    if is_public_ip(ip):\n",
    "        tipo.append('publica')\n",
    "    else:\n",
    "        tipo.append('privada')\n",
    "        \n",
    "dataGroup5['tipo'] = tipo\n",
    "dataGroup5"
   ]
  },
  {
   "cell_type": "markdown",
   "metadata": {},
   "source": [
    "# 9. Detector pais\n",
    "\n",
    "Todas las IPS son privadas por lo tanto no va a haber nada."
   ]
  },
  {
   "cell_type": "code",
   "execution_count": 27,
   "metadata": {},
   "outputs": [
    {
     "data": {
      "text/plain": [
       "Series([], Name: ipdst, dtype: object)"
      ]
     },
     "execution_count": 27,
     "metadata": {},
     "output_type": "execute_result"
    }
   ],
   "source": [
    "dataGroup5[(dataGroup5['tipo'] == 'publica')]['ipdst']"
   ]
  },
  {
   "cell_type": "code",
   "execution_count": 28,
   "metadata": {
    "collapsed": true
   },
   "outputs": [],
   "source": [
    "ips = dataGroup5[(dataGroup5['tipo'] == 'publica')]['ipdst']\n",
    "\n",
    "for ip in ips:\n",
    "    #url = 'http://ip-api.com/json/'+ip\n",
    "    url = 'http://freegeoip.net/json/'+ip\n",
    "    response = urlopen(url)\n",
    "    data = json.load(response)\n",
    "    print(ip+\": \")\n",
    "    data['country_name']\n",
    "    country = str(data['country_name'])\n",
    "    print (country)"
   ]
  },
  {
   "cell_type": "markdown",
   "metadata": {},
   "source": [
    "Ejemplo si hubiera una IP publica:\n",
    "```\n",
    "92.53.104.78: \n",
    "Russia\n",
    "```"
   ]
  },
  {
   "cell_type": "code",
   "execution_count": null,
   "metadata": {
    "collapsed": true
   },
   "outputs": [],
   "source": []
  }
 ],
 "metadata": {
  "kernelspec": {
   "display_name": "Python 2",
   "language": "python",
   "name": "python2"
  },
  "language_info": {
   "codemirror_mode": {
    "name": "ipython",
    "version": 3
   },
   "file_extension": ".py",
   "mimetype": "text/x-python",
   "name": "python",
   "nbconvert_exporter": "python",
   "pygments_lexer": "ipython3",
   "version": "3.6.0"
  }
 },
 "nbformat": 4,
 "nbformat_minor": 2
}
